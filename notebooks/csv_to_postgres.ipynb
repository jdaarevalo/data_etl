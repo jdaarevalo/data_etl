{
 "cells": [
  {
   "cell_type": "code",
   "execution_count": 1,
   "id": "sufficient-centre",
   "metadata": {},
   "outputs": [],
   "source": [
    "import pyspark"
   ]
  },
  {
   "cell_type": "code",
   "execution_count": 2,
   "id": "brutal-death",
   "metadata": {},
   "outputs": [],
   "source": [
    "# objeto principal o la base a partir de la cual cuelga toda la funcionalidad de Apache Spark\n",
    "from pyspark.sql import SparkSession\n",
    "\n",
    "# Se trata del context básico de Spark, desde donde se crean el resto de variables \n",
    "# que maneja el framework. Sólo un SparkContext puede estar activo por JVM.\n",
    "from pyspark import SparkContext\n",
    "\n",
    "# el objeto functions del modulo sql define las funciones estándar incorporadas \n",
    "# para trabajar con (valores producidos) columnas.\n",
    "import pyspark.sql.functions as func\n",
    "\n",
    "from datetime import datetime"
   ]
  },
  {
   "cell_type": "code",
   "execution_count": 3,
   "id": "streaming-situation",
   "metadata": {},
   "outputs": [],
   "source": [
    "spark = SparkSession.builder\\\n",
    "                    .appName(\"Test\")\\\n",
    "                    .config(\"spark.jars.packages\", \"org.postgresql:postgresql:9.4.1211\")\\\n",
    "                    .getOrCreate()"
   ]
  },
  {
   "cell_type": "code",
   "execution_count": 5,
   "id": "greek-norway",
   "metadata": {},
   "outputs": [],
   "source": [
    "csv_file = 'allposts.csv'"
   ]
  },
  {
   "cell_type": "code",
   "execution_count": 6,
   "id": "fixed-battle",
   "metadata": {},
   "outputs": [],
   "source": [
    "df = spark.read.csv(csv_file, sep=',', escape='\"', header=True, inferSchema=True, multiLine=True)"
   ]
  },
  {
   "cell_type": "code",
   "execution_count": 7,
   "id": "according-cooler",
   "metadata": {},
   "outputs": [],
   "source": [
    "# change format in column created_utc\n",
    "df = df.withColumn(\"created_utc\",func.col(\"created_utc\").cast(\"timestamp\"))"
   ]
  },
  {
   "cell_type": "code",
   "execution_count": 8,
   "id": "drawn-improvement",
   "metadata": {},
   "outputs": [],
   "source": [
    "# change format to column edited\n",
    "df = df.withColumn('edited', \n",
    "               func.when(func.col('edited').like(\"1%\"), 'True')\n",
    "               .when(func.col('edited') == '', 'False')\n",
    "               .otherwise(func.col('edited'))\n",
    "              )\n",
    "df = df.withColumn(\"edited\",func.col(\"edited\").cast(\"boolean\"))"
   ]
  },
  {
   "cell_type": "code",
   "execution_count": 9,
   "id": "based-playing",
   "metadata": {},
   "outputs": [],
   "source": [
    "db_url = 'jdbc:postgresql://localhost:54321/postgres'\n",
    "table_name = 'data_challenge2'\n",
    "db_properties = {'user': 'postgres', 'password': 'postgres'}"
   ]
  },
  {
   "cell_type": "code",
   "execution_count": 12,
   "id": "pediatric-mitchell",
   "metadata": {},
   "outputs": [
    {
     "name": "stdout",
     "output_type": "stream",
     "text": [
      "CPU times: user 93.2 ms, sys: 63.4 ms, total: 157 ms\n",
      "Wall time: 21min 59s\n"
     ]
    }
   ],
   "source": [
    "%%time\n",
    "df.write.option(\"numPartitions\",\"5\").option(\"batchsize\",\"200000\").jdbc(\n",
    "            url=db_url,\n",
    "            table=table_name,\n",
    "            mode='overwrite',\n",
    "            properties=db_properties)"
   ]
  },
  {
   "cell_type": "code",
   "execution_count": null,
   "id": "lesbian-right",
   "metadata": {},
   "outputs": [],
   "source": []
  }
 ],
 "metadata": {
  "kernelspec": {
   "display_name": "Python 3",
   "language": "python",
   "name": "python3"
  },
  "language_info": {
   "codemirror_mode": {
    "name": "ipython",
    "version": 3
   },
   "file_extension": ".py",
   "mimetype": "text/x-python",
   "name": "python",
   "nbconvert_exporter": "python",
   "pygments_lexer": "ipython3",
   "version": "3.7.4"
  }
 },
 "nbformat": 4,
 "nbformat_minor": 5
}
